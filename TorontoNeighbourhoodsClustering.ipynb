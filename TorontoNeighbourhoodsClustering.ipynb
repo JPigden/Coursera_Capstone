{
 "cells": [
  {
   "cell_type": "markdown",
   "metadata": {},
   "source": [
    "# Totonto Neighbourhoods Notebook\n",
    "## Scrubbing data from wikipedia\n",
    "This Jupyter notebook explores and clusters Toronto neighbourhoods.\n",
    "We first import all the tools we need."
   ]
  },
  {
   "cell_type": "code",
   "execution_count": null,
   "metadata": {},
   "outputs": [
    {
     "name": "stdout",
     "output_type": "stream",
     "text": [
      "Solving environment: \\ "
     ]
    }
   ],
   "source": [
    "from bs4 import BeautifulSoup\n",
    "import numpy as np\n",
    "import pandas as pd\n",
    "import requests\n",
    "\n",
    "from geopy.geocoders import Nominatim \n",
    "\n",
    "import matplotlib.cm as cm\n",
    "import matplotlib.colors as colors\n",
    "\n",
    "from sklearn.cluster import KMeans\n",
    "\n",
    "!conda install -c conda-forge folium=0.5.0 --yes \n",
    "import folium "
   ]
  },
  {
   "cell_type": "markdown",
   "metadata": {},
   "source": [
    "Next we scrape the wikipedia page given for Neighbourhood names, and put them in a readable format."
   ]
  },
  {
   "cell_type": "code",
   "execution_count": null,
   "metadata": {},
   "outputs": [],
   "source": [
    "source = requests.get('https://en.wikipedia.org/wiki/List_of_postal_codes_of_Canada:_M').text\n",
    "page = BeautifulSoup(source,'lxml')"
   ]
  },
  {
   "cell_type": "markdown",
   "metadata": {},
   "source": [
    "Viewing the page html, we find what part of the source code we wanted, and use the BeautifulSoup functions to get a list of the portions of html code representing rows in the table. We then remove the headers."
   ]
  },
  {
   "cell_type": "code",
   "execution_count": null,
   "metadata": {},
   "outputs": [],
   "source": [
    "table = page.find('table', class_='wikitable sortable')\n",
    "tableLines = table.find_all('tr')\n",
    "tableLines.pop(0)"
   ]
  },
  {
   "cell_type": "markdown",
   "metadata": {},
   "source": [
    "We create an empty list, and, for each portion of html representing a row, extract the rows elements, and add them all to a list."
   ]
  },
  {
   "cell_type": "code",
   "execution_count": null,
   "metadata": {},
   "outputs": [],
   "source": [
    "listOfTableEntries = list()\n",
    "for line in tableLines:\n",
    "    lineElements = line.find_all('td')\n",
    "    for element in lineElements:\n",
    "        elementText = element.text\n",
    "        listOfTableEntries.append(elementText)\n",
    "    \n",
    "    "
   ]
  },
  {
   "cell_type": "markdown",
   "metadata": {},
   "source": [
    "Going through the list of all elemtns in the table, we reconstruct it into a list of list, each inside list representing a row in the table. We remove any rows with \"not assigned\" as a borough, and replace the neighbourhood with the borough name if the neighbourhood is 'Not assigned'. We also trim \\n from the end of the neighbourhood names."
   ]
  },
  {
   "cell_type": "code",
   "execution_count": null,
   "metadata": {},
   "outputs": [],
   "source": [
    "listOfRows=list()\n",
    "for i in range(0,867,3):\n",
    "    if (listOfTableEntries[i+1] != 'Not assigned'):\n",
    "        if (listOfTableEntries[i+2] == 'Not assigned\\n'):\n",
    "            listOfRows.append([listOfTableEntries[i],listOfTableEntries[i+1],listOfTableEntries[i+1]])\n",
    "        else:\n",
    "            listOfRows.append([listOfTableEntries[i],listOfTableEntries[i+1],listOfTableEntries[i+2][:-1]])\n"
   ]
  },
  {
   "cell_type": "markdown",
   "metadata": {},
   "source": [
    "Using a while loop, we merge rows with the same PostalCode, getting a row ogf all neighbourhoods with the same PostalCose"
   ]
  },
  {
   "cell_type": "code",
   "execution_count": null,
   "metadata": {},
   "outputs": [],
   "source": [
    "i = 0\n",
    "while (i < len(listOfRows)-1):\n",
    "    row = listOfRows[i]\n",
    "    belowRow = listOfRows[i+1]\n",
    "    if (row[0]==belowRow[0]):\n",
    "        row[2]= row[2] + ', ' + belowRow[2]\n",
    "        listOfRows.pop(i+1)\n",
    "    else:\n",
    "        i=i+1\n",
    "        \n"
   ]
  },
  {
   "cell_type": "markdown",
   "metadata": {},
   "source": [
    "We then place the whole thing into a dataframe, now that it has been processed as required."
   ]
  },
  {
   "cell_type": "code",
   "execution_count": null,
   "metadata": {},
   "outputs": [],
   "source": [
    "neighbourhoodTable = pd.DataFrame(listOfRows,columns = ['PostalCode','Borough','Neighbourhood'])"
   ]
  },
  {
   "cell_type": "markdown",
   "metadata": {},
   "source": [
    "Looking at the head, we can see an example of the merging of PostalCodes in row indexes 2 and 3, and an exmaple of the replacement of 'Not assigned' as a neighbourhood with the borough name in row 4"
   ]
  },
  {
   "cell_type": "code",
   "execution_count": null,
   "metadata": {},
   "outputs": [],
   "source": [
    "neighbourhoodTable.head()"
   ]
  },
  {
   "cell_type": "code",
   "execution_count": null,
   "metadata": {},
   "outputs": [],
   "source": [
    "neighbourhoodTable.shape"
   ]
  },
  {
   "cell_type": "markdown",
   "metadata": {},
   "source": [
    "## Adding in location data\n",
    "First we shall get the lat/long data from the provided csv file."
   ]
  },
  {
   "cell_type": "code",
   "execution_count": null,
   "metadata": {},
   "outputs": [],
   "source": [
    "latLongData= pd.DataFrame.from_csv('https://cocl.us/Geospatial_data')"
   ]
  },
  {
   "cell_type": "markdown",
   "metadata": {},
   "source": [
    "Lets check this data"
   ]
  },
  {
   "cell_type": "code",
   "execution_count": null,
   "metadata": {},
   "outputs": [],
   "source": [
    "latLongData.head()"
   ]
  },
  {
   "cell_type": "markdown",
   "metadata": {},
   "source": [
    "We use a table join, similar to those used in SQL, to combine the postal code lat/long data with the neighbourhood table we prepared above."
   ]
  },
  {
   "cell_type": "code",
   "execution_count": null,
   "metadata": {},
   "outputs": [],
   "source": [
    "neighbourhoodLocationTable = neighbourhoodTable.join(latLongData, on='PostalCode')"
   ]
  },
  {
   "cell_type": "code",
   "execution_count": null,
   "metadata": {},
   "outputs": [],
   "source": [
    "neighbourhoodLocationTable.head()"
   ]
  },
  {
   "cell_type": "markdown",
   "metadata": {},
   "source": [
    "Lets use geolocater to find the lat/long of Toronto"
   ]
  },
  {
   "cell_type": "code",
   "execution_count": null,
   "metadata": {},
   "outputs": [],
   "source": [
    "address = 'Toronto, Ontario'\n",
    "\n",
    "geolocator = Nominatim()\n",
    "location = geolocator.geocode(address)\n",
    "latitude = location.latitude\n",
    "longitude = location.longitude\n",
    "print('The geograpical coordinate of Toronto are {}, {}.'.format(latitude, longitude))"
   ]
  },
  {
   "cell_type": "markdown",
   "metadata": {},
   "source": [
    "Now we will use the Folium package to display the locations of the given nieghbourhoods on a map of toronto"
   ]
  },
  {
   "cell_type": "code",
   "execution_count": null,
   "metadata": {},
   "outputs": [],
   "source": [
    "# create map of Toronto using latitude and longitude values\n",
    "map_toronto = folium.Map(location=[latitude, longitude], zoom_start=10)\n",
    "\n",
    "# add markers to map\n",
    "for lat, lng, borough, neighborhood in zip(neighbourhoodLocationTable['Latitude'], neighbourhoodLocationTable['Longitude'], neighbourhoodLocationTable['Borough'], neighbourhoodLocationTable['Neighbourhood']):\n",
    "    label = '{}, {}'.format(neighborhood, borough)\n",
    "    label = folium.Popup(label, parse_html=True)\n",
    "    folium.CircleMarker(\n",
    "        [lat, lng],\n",
    "        radius=5,\n",
    "        popup=label,\n",
    "        color='blue',\n",
    "        fill=True,\n",
    "        fill_color='#3186cc',\n",
    "        fill_opacity=0.7,\n",
    "        parse_html=False).add_to(map_toronto)  \n",
    "    \n",
    "map_toronto"
   ]
  },
  {
   "cell_type": "markdown",
   "metadata": {},
   "source": [
    "Now lets do a bit of exploring of these neighbourhoods with FourSquare. We will first collect all of the nearby venues for each of these venues. YOU WILL NEED TO INPUT YOUR OWN FOURSQUARE CREDENTIALS."
   ]
  },
  {
   "cell_type": "code",
   "execution_count": null,
   "metadata": {},
   "outputs": [],
   "source": [
    "CLIENT_ID = 'KXMEYZ5FNM24P0FFVBOZ2Q0O2B0GDB1TVFKITKMYKSTLFRN5' # your Foursquare ID\n",
    "CLIENT_SECRET = '54XYMKJPZ2XDIJAVVXBMQJJGRQIVRLZCSPX423LPHZRN5OIW' # your Foursquare Secret\n",
    "VERSION = '20180605' # Foursquare API version\n",
    "\n",
    "print('Your credentails:')\n",
    "print('CLIENT_ID: ' + CLIENT_ID)\n",
    "print('CLIENT_SECRET:' + CLIENT_SECRET)"
   ]
  },
  {
   "cell_type": "markdown",
   "metadata": {},
   "source": [
    "We write a function that we can use to return for us all of the nearby venues to each PostalCode in our neighbourhoodLocationTable."
   ]
  },
  {
   "cell_type": "code",
   "execution_count": null,
   "metadata": {},
   "outputs": [],
   "source": [
    "def getNearbyVenues(names, latitudes, longitudes, radius=500):\n",
    "    \n",
    "    venues_list=[]\n",
    "    for name, lat, lng in zip(names, latitudes, longitudes):\n",
    "            \n",
    "        # create the API request URL\n",
    "        url = 'https://api.foursquare.com/v2/venues/explore?&client_id={}&client_secret={}&v={}&ll={},{}&radius={}&limit={}'.format(\n",
    "            CLIENT_ID, \n",
    "            CLIENT_SECRET, \n",
    "            VERSION, \n",
    "            lat, \n",
    "            lng, \n",
    "            500, \n",
    "            100)\n",
    "            \n",
    "        # make the GET request\n",
    "        results = requests.get(url).json()[\"response\"]['groups'][0]['items']\n",
    "        \n",
    "        # return only relevant information for each nearby venue\n",
    "        venues_list.append([(\n",
    "            name, \n",
    "            lat, \n",
    "            lng, \n",
    "            v['venue']['name'], \n",
    "            v['venue']['location']['lat'], \n",
    "            v['venue']['location']['lng'],  \n",
    "            v['venue']['categories'][0]['name']) for v in results])\n",
    "\n",
    "    nearby_venues = pd.DataFrame([item for venue_list in venues_list for item in venue_list])\n",
    "    nearby_venues.columns = ['PostalCode', \n",
    "                  'PostalCode Latitude', \n",
    "                  'PostalCode Longitude', \n",
    "                  'Venue', \n",
    "                  'Venue Latitude', \n",
    "                  'Venue Longitude', \n",
    "                  'Venue Category']\n",
    "    \n",
    "    return(nearby_venues)"
   ]
  },
  {
   "cell_type": "markdown",
   "metadata": {},
   "source": [
    "Lets retrieve those venues!"
   ]
  },
  {
   "cell_type": "code",
   "execution_count": null,
   "metadata": {},
   "outputs": [],
   "source": [
    "torontoVenues=getNearbyVenues(neighbourhoodLocationTable['PostalCode'],neighbourhoodLocationTable['Latitude'],neighbourhoodLocationTable['Longitude'])\n",
    "torontoVenues.head()"
   ]
  },
  {
   "cell_type": "markdown",
   "metadata": {},
   "source": [
    "We'll use one hot enconding to assign numeric value and columns to each venue category"
   ]
  },
  {
   "cell_type": "code",
   "execution_count": null,
   "metadata": {},
   "outputs": [],
   "source": [
    "# one hot encoding\n",
    "torontoOneHot = pd.get_dummies(torontoVenues[['Venue Category']], prefix=\"\", prefix_sep=\"\")\n",
    "\n",
    "# add PostalCode column back to dataframe\n",
    "torontoOneHot['PostalCode'] = torontoVenues['PostalCode'] \n",
    "\n",
    "# move PostalCode column to the first column\n",
    "fixed_columns = [torontoOneHot.columns[-1]] + list(torontoOneHot.columns[:-1])\n",
    "torontoOneHot = torontoOneHot[fixed_columns]\n",
    "\n",
    "torontoOneHot.head()"
   ]
  },
  {
   "cell_type": "markdown",
   "metadata": {},
   "source": [
    "We want group these together, and use mean to understand what proportion of nearby venues are of each category for each postal code."
   ]
  },
  {
   "cell_type": "code",
   "execution_count": null,
   "metadata": {},
   "outputs": [],
   "source": [
    "torontoGrouped = torontoOneHot.groupby('PostalCode').mean().reset_index()\n",
    "torontoGrouped.head()"
   ]
  },
  {
   "cell_type": "markdown",
   "metadata": {},
   "source": [
    "We will use the following method to show what type of venue is most frequently found near each Postal Code. This will help us find a nice area to live in!"
   ]
  },
  {
   "cell_type": "code",
   "execution_count": null,
   "metadata": {},
   "outputs": [],
   "source": [
    "num_top_venues = 3\n",
    "\n",
    "for pstCde in torontoGrouped['PostalCode']:\n",
    "    print(\"----\"+pstCde+\"----\")\n",
    "    temp = torontoGrouped[torontoGrouped['PostalCode'] == pstCde].T.reset_index()\n",
    "    temp.columns = ['venue','freq']\n",
    "    temp = temp.iloc[1:]\n",
    "    temp['freq'] = temp['freq'].astype(float)\n",
    "    temp = temp.round({'freq': 2})\n",
    "    print(temp.sort_values('freq', ascending=False).reset_index(drop=True).head(num_top_venues))\n",
    "    print('\\n')"
   ]
  },
  {
   "cell_type": "markdown",
   "metadata": {},
   "source": [
    "Looking thorugh these, we find M2P has a bank, park and electronics store nearby. A perfect place for any up and coming data scientist who enjoys the outdoors! Lets find out what neighbourhoods have this postal code."
   ]
  },
  {
   "cell_type": "code",
   "execution_count": null,
   "metadata": {},
   "outputs": [],
   "source": [
    "neighbourhoodLocationTable.loc[neighbourhoodLocationTable['PostalCode']=='M2P']"
   ]
  },
  {
   "cell_type": "markdown",
   "metadata": {},
   "source": [
    "So looks like York Mills West is the place to be!"
   ]
  },
  {
   "cell_type": "markdown",
   "metadata": {},
   "source": [
    "## Clustering neighbourhoods\n",
    "We'll cluster the neighbourhoods based upon their venues."
   ]
  },
  {
   "cell_type": "code",
   "execution_count": null,
   "metadata": {},
   "outputs": [],
   "source": [
    "# set number of clusters\n",
    "kclusters = 5\n",
    "\n",
    "torontoGroupedClustering = torontoGrouped.drop('PostalCode', 1)\n",
    "\n",
    "# run k-means clustering\n",
    "kmeans = KMeans(n_clusters=kclusters, random_state=0).fit(torontoGroupedClustering)\n",
    "\n",
    "# check cluster labels generated for each row in the dataframe\n",
    "kmeans.labels_[0:10] "
   ]
  },
  {
   "cell_type": "markdown",
   "metadata": {},
   "source": [
    "Now we'll create a new dataframe that includes the clustering with the neighbourhood location data."
   ]
  },
  {
   "cell_type": "code",
   "execution_count": null,
   "metadata": {},
   "outputs": [],
   "source": [
    "torontoMerged = torontoGrouped\n",
    "\n",
    "# add clustering labels\n",
    "torontoMerged['Cluster Labels'] = kmeans.labels_\n",
    "\n",
    "#Make it only contain the columns we want\n",
    "torontoMerged = pd.concat([torontoMerged['PostalCode'],torontoMerged['Cluster Labels']],axis = 1)\n",
    "\n",
    "#Merge in location data\n",
    "torontoMerged = torontoMerged.join(latLongData, on='PostalCode')\n",
    "\n",
    "torontoMerged.head() # check the last columns!"
   ]
  },
  {
   "cell_type": "markdown",
   "metadata": {},
   "source": [
    "Fianlly, we can place the postal code on a map of Toronto, coloured by cluster."
   ]
  },
  {
   "cell_type": "code",
   "execution_count": null,
   "metadata": {},
   "outputs": [],
   "source": [
    "# create map\n",
    "map_clusters = folium.Map(location=[latitude, longitude], zoom_start=11)\n",
    "\n",
    "# set color scheme for the clusters\n",
    "x = np.arange(kclusters)\n",
    "ys = [i+x+(i*x)**2 for i in range(kclusters)]\n",
    "colors_array = cm.rainbow(np.linspace(0, 1, len(ys)))\n",
    "rainbow = [colors.rgb2hex(i) for i in colors_array]\n",
    "\n",
    "# add markers to the map\n",
    "markers_colors = []\n",
    "for lat, lon, poi, cluster in zip(torontoMerged['Latitude'], torontoMerged['Longitude'], torontoMerged['PostalCode'], torontoMerged['Cluster Labels']):\n",
    "    label = folium.Popup(str(poi) + ' Cluster ' + str(cluster), parse_html=True)\n",
    "    folium.CircleMarker(\n",
    "        [lat, lon],\n",
    "        radius=5,\n",
    "        popup=label,\n",
    "        color=rainbow[cluster-1],\n",
    "        fill=True,\n",
    "        fill_color=rainbow[cluster-1],\n",
    "        fill_opacity=0.7).add_to(map_clusters)\n",
    "       \n",
    "map_clusters"
   ]
  },
  {
   "cell_type": "markdown",
   "metadata": {},
   "source": [
    "So we see the majority of neighbourhoods are in one cluster, with the remaining 4 clusters picking up a few others. Thanks for reading!"
   ]
  },
  {
   "cell_type": "code",
   "execution_count": null,
   "metadata": {},
   "outputs": [],
   "source": []
  },
  {
   "cell_type": "code",
   "execution_count": null,
   "metadata": {},
   "outputs": [],
   "source": []
  },
  {
   "cell_type": "code",
   "execution_count": null,
   "metadata": {},
   "outputs": [],
   "source": []
  }
 ],
 "metadata": {
  "kernelspec": {
   "display_name": "Python 3",
   "language": "python",
   "name": "python3"
  },
  "language_info": {
   "codemirror_mode": {
    "name": "ipython",
    "version": 3
   },
   "file_extension": ".py",
   "mimetype": "text/x-python",
   "name": "python",
   "nbconvert_exporter": "python",
   "pygments_lexer": "ipython3",
   "version": "3.6.6"
  }
 },
 "nbformat": 4,
 "nbformat_minor": 2
}
